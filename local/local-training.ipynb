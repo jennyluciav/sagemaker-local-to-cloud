{
 "cells": [
  {
   "cell_type": "code",
   "execution_count": 11,
   "metadata": {},
   "outputs": [],
   "source": [
    "import tarfile\n",
    "\n",
    "import boto3\n",
    "import pandas as pd\n",
    "import os\n",
    "from sagemaker.estimator import Estimator\n",
    "from sagemaker.local import LocalSession\n",
    "from sagemaker.predictor import csv_serializer"
   ]
  },
  {
   "cell_type": "code",
   "execution_count": 5,
   "metadata": {},
   "outputs": [
    {
     "name": "stderr",
     "output_type": "stream",
     "text": [
      "WARNING:root:MDLP was not imported successfully\n",
      "/Users/jennyvg/.pyenv/versions/3.9.5/envs/auxmoney/lib/python3.9/site-packages/tqdm/auto.py:21: TqdmWarning: IProgress not found. Please update jupyter and ipywidgets. See https://ipywidgets.readthedocs.io/en/stable/user_install.html\n",
      "  from .autonotebook import tqdm as notebook_tqdm\n"
     ]
    }
   ],
   "source": [
    "from __future__ import print_function\n",
    "\n",
    "import json\n",
    "import os\n",
    "import pickle\n",
    "import sys\n",
    "import traceback\n",
    "\n",
    "import pandas as pd\n",
    "from causalnex.discretiser import Discretiser\n",
    "import warnings\n",
    "from causalnex.structure import StructureModel\n",
    "from sklearn.model_selection import train_test_split\n",
    "from causalnex.network import BayesianNetwork\n",
    "from causalnex.evaluation import classification_report\n",
    "from causalnex.evaluation import roc_auc"
   ]
  },
  {
   "cell_type": "code",
   "execution_count": 12,
   "metadata": {},
   "outputs": [],
   "source": [
    "sagemaker_session = LocalSession()\n",
    "sagemaker_session.config = {'local': {'local_code': True}}\n",
    "\n",
    "role = 'arn:aws:iam::948014026119:role/service-role/AmazonSageMaker-ExecutionRole-20220620T163773'\n",
    "session = boto3.session.Session(profile_name='mlops-prod')\n",
    "s3 = session.client('s3')"
   ]
  },
  {
   "cell_type": "code",
   "execution_count": 16,
   "metadata": {},
   "outputs": [],
   "source": [
    "data_location = \"./data/heart_failure_clinical_records_dataset.csv\""
   ]
  },
  {
   "attachments": {},
   "cell_type": "markdown",
   "metadata": {},
   "source": [
    "this is a comment"
   ]
  },
  {
   "cell_type": "code",
   "execution_count": 17,
   "metadata": {},
   "outputs": [
    {
     "data": {
      "text/html": [
       "<div>\n",
       "<style scoped>\n",
       "    .dataframe tbody tr th:only-of-type {\n",
       "        vertical-align: middle;\n",
       "    }\n",
       "\n",
       "    .dataframe tbody tr th {\n",
       "        vertical-align: top;\n",
       "    }\n",
       "\n",
       "    .dataframe thead th {\n",
       "        text-align: right;\n",
       "    }\n",
       "</style>\n",
       "<table border=\"1\" class=\"dataframe\">\n",
       "  <thead>\n",
       "    <tr style=\"text-align: right;\">\n",
       "      <th></th>\n",
       "      <th>age</th>\n",
       "      <th>anaemia</th>\n",
       "      <th>creatinine_phosphokinase</th>\n",
       "      <th>diabetes</th>\n",
       "      <th>ejection_fraction</th>\n",
       "      <th>high_blood_pressure</th>\n",
       "      <th>platelets</th>\n",
       "      <th>serum_creatinine</th>\n",
       "      <th>serum_sodium</th>\n",
       "      <th>sex</th>\n",
       "      <th>smoking</th>\n",
       "      <th>time</th>\n",
       "      <th>DEATH_EVENT</th>\n",
       "    </tr>\n",
       "  </thead>\n",
       "  <tbody>\n",
       "    <tr>\n",
       "      <th>0</th>\n",
       "      <td>1</td>\n",
       "      <td>0</td>\n",
       "      <td>2</td>\n",
       "      <td>0</td>\n",
       "      <td>0</td>\n",
       "      <td>1</td>\n",
       "      <td>1</td>\n",
       "      <td>0</td>\n",
       "      <td>0</td>\n",
       "      <td>1</td>\n",
       "      <td>0</td>\n",
       "      <td>4</td>\n",
       "      <td>1</td>\n",
       "    </tr>\n",
       "    <tr>\n",
       "      <th>1</th>\n",
       "      <td>0</td>\n",
       "      <td>0</td>\n",
       "      <td>3</td>\n",
       "      <td>0</td>\n",
       "      <td>2</td>\n",
       "      <td>0</td>\n",
       "      <td>1</td>\n",
       "      <td>0</td>\n",
       "      <td>1</td>\n",
       "      <td>1</td>\n",
       "      <td>0</td>\n",
       "      <td>6</td>\n",
       "      <td>1</td>\n",
       "    </tr>\n",
       "    <tr>\n",
       "      <th>2</th>\n",
       "      <td>1</td>\n",
       "      <td>0</td>\n",
       "      <td>1</td>\n",
       "      <td>0</td>\n",
       "      <td>0</td>\n",
       "      <td>0</td>\n",
       "      <td>0</td>\n",
       "      <td>0</td>\n",
       "      <td>0</td>\n",
       "      <td>1</td>\n",
       "      <td>1</td>\n",
       "      <td>7</td>\n",
       "      <td>1</td>\n",
       "    </tr>\n",
       "    <tr>\n",
       "      <th>3</th>\n",
       "      <td>0</td>\n",
       "      <td>1</td>\n",
       "      <td>0</td>\n",
       "      <td>0</td>\n",
       "      <td>0</td>\n",
       "      <td>0</td>\n",
       "      <td>0</td>\n",
       "      <td>0</td>\n",
       "      <td>1</td>\n",
       "      <td>1</td>\n",
       "      <td>0</td>\n",
       "      <td>7</td>\n",
       "      <td>1</td>\n",
       "    </tr>\n",
       "    <tr>\n",
       "      <th>4</th>\n",
       "      <td>1</td>\n",
       "      <td>1</td>\n",
       "      <td>1</td>\n",
       "      <td>1</td>\n",
       "      <td>0</td>\n",
       "      <td>0</td>\n",
       "      <td>1</td>\n",
       "      <td>0</td>\n",
       "      <td>0</td>\n",
       "      <td>0</td>\n",
       "      <td>0</td>\n",
       "      <td>8</td>\n",
       "      <td>1</td>\n",
       "    </tr>\n",
       "  </tbody>\n",
       "</table>\n",
       "</div>"
      ],
      "text/plain": [
       "   age  anaemia  creatinine_phosphokinase  diabetes  ejection_fraction   \n",
       "0    1        0                         2         0                  0  \\\n",
       "1    0        0                         3         0                  2   \n",
       "2    1        0                         1         0                  0   \n",
       "3    0        1                         0         0                  0   \n",
       "4    1        1                         1         1                  0   \n",
       "\n",
       "   high_blood_pressure  platelets  serum_creatinine  serum_sodium  sex   \n",
       "0                    1          1                 0             0    1  \\\n",
       "1                    0          1                 0             1    1   \n",
       "2                    0          0                 0             0    1   \n",
       "3                    0          0                 0             1    1   \n",
       "4                    0          1                 0             0    0   \n",
       "\n",
       "   smoking  time  DEATH_EVENT  \n",
       "0        0     4            1  \n",
       "1        0     6            1  \n",
       "2        1     7            1  \n",
       "3        0     7            1  \n",
       "4        0     8            1  "
      ]
     },
     "execution_count": 17,
     "metadata": {},
     "output_type": "execute_result"
    }
   ],
   "source": [
    "from causalnex.discretiser import Discretiser\n",
    "import pandas as pd\n",
    "\n",
    "initial_df = pd.read_csv(data_location)\n",
    "\n",
    "initial_df[\"age\"] = Discretiser(method=\"fixed\", numeric_split_points=[60]).transform(\n",
    "    initial_df[\"age\"].values\n",
    ")\n",
    "initial_df[\"serum_sodium\"] = Discretiser(method=\"fixed\", numeric_split_points=[136]).transform(\n",
    "    initial_df[\"serum_sodium\"].values\n",
    ")\n",
    "initial_df[\"serum_creatinine\"] = Discretiser(\n",
    "    method=\"fixed\", numeric_split_points=[1.1, 1.4]\n",
    ").transform(initial_df[\"serum_sodium\"].values)\n",
    "\n",
    "initial_df[\"ejection_fraction\"] = Discretiser(\n",
    "    method=\"fixed\", numeric_split_points=[30, 38, 42]\n",
    ").transform(initial_df[\"ejection_fraction\"].values)\n",
    "\n",
    "initial_df[\"creatinine_phosphokinase\"] = Discretiser(\n",
    "    method=\"fixed\", numeric_split_points=[120, 540, 670]\n",
    ").transform(initial_df[\"creatinine_phosphokinase\"].values)\n",
    "\n",
    "initial_df[\"platelets\"] = Discretiser(method=\"fixed\", numeric_split_points=[263358]).transform(\n",
    "    initial_df[\"platelets\"].values\n",
    ")\n",
    "initial_df.head()"
   ]
  },
  {
   "cell_type": "code",
   "execution_count": null,
   "metadata": {},
   "outputs": [],
   "source": [
    "sm = StructureModel()\n",
    "sm.add_edges_from([\n",
    "    ('ejection_fraction', 'DEATH_EVENT'),\n",
    "    ('creatinine_phosphokinase', 'DEATH_EVENT'),\n",
    "    ('age','DEATH_EVENT'),\n",
    "    ('smoking','high_blood_pressure'),\n",
    "    ('age','high_blood_pressure'),            \n",
    "    ('serum_sodium','DEATH_EVENT'),\n",
    "    ('high_blood_pressure','DEATH_EVENT'),\n",
    "    ('anaemia','DEATH_EVENT'),\n",
    "    ('creatinine_phosphokinase','DEATH_EVENT'),\n",
    "    ('smoking','DEATH_EVENT')\n",
    "])\n",
    "\n",
    "train, test = train_test_split(initial_df, train_size=0.8, test_size=0.2, random_state=42)\n",
    "        \n",
    "bn = BayesianNetwork(sm)\n",
    "bn = bn.fit_node_states(initial_df)\n",
    "bn = bn.fit_cpds(train, method=\"BayesianEstimator\", bayes_prior=\"K2\")\n",
    "\n",
    "roc, auc = roc_auc(bn, test, \"DEATH_EVENT\")\n",
    "print(\"Model AUC: \" + str(auc))\n",
    "\n",
    "print(classification_report(bn, test, \"DEATH_EVENT\"))\n",
    "\n",
    "# save the model\n",
    "model_path = \"models\"\n",
    "with open(os.path.join(model_path, 'causal_model.pkl'), 'wb') as out:\n",
    "    pickle.dump(bn, out)"
   ]
  },
  {
   "attachments": {},
   "cell_type": "markdown",
   "metadata": {},
   "source": [
    "Now we want to use this code to create a docker image that can be pushed to ECR and then use that image with Sagemaker"
   ]
  },
  {
   "cell_type": "code",
   "execution_count": 28,
   "metadata": {},
   "outputs": [
    {
     "name": "stdout",
     "output_type": "stream",
     "text": [
      "Creating scmjhsri78-algo-1-16lri ... \n",
      "Creating scmjhsri78-algo-1-16lri ... done\n",
      "Attaching to scmjhsri78-algo-1-16lri\n",
      "\u001b[36mscmjhsri78-algo-1-16lri |\u001b[0m WARNING:root:MDLP was not imported successfully\n",
      "\u001b[36mscmjhsri78-algo-1-16lri |\u001b[0m Starting the training.\n",
      "\u001b[36mscmjhsri78-algo-1-16lri |\u001b[0m Model AUC: 0.7368055555555555\n",
      "\u001b[36mscmjhsri78-algo-1-16lri |\u001b[0m {'DEATH_EVENT_0': {'precision': 0.6122448979591837, 'recall': 0.8571428571428571, 'f1-score': 0.7142857142857143, 'support': 35}, 'DEATH_EVENT_1': {'precision': 0.5454545454545454, 'recall': 0.24, 'f1-score': 0.3333333333333333, 'support': 25}, 'accuracy': 0.6, 'macro avg': {'precision': 0.5788497217068646, 'recall': 0.5485714285714285, 'f1-score': 0.5238095238095238, 'support': 60}, 'weighted avg': {'precision': 0.5844155844155844, 'recall': 0.6, 'f1-score': 0.5555555555555555, 'support': 60}}\n",
      "\u001b[36mscmjhsri78-algo-1-16lri |\u001b[0m Training complete.\n",
      "\u001b[36mscmjhsri78-algo-1-16lri exited with code 0\n",
      "\u001b[0mAborting on container exit...\n",
      "===== Job Complete =====\n"
     ]
    }
   ],
   "source": [
    "image = 'sagemaker-causalnex-local'\n",
    "\n",
    "env={\n",
    "    \"MODEL_SERVER_WORKERS\":\"2\"\n",
    "    }\n",
    "\n",
    "local_regressor = Estimator(\n",
    "    image,\n",
    "    role,\n",
    "    instance_count=1,\n",
    "    instance_type=\"local\")\n",
    "\n",
    "train_location = 'file://'+data_location\n",
    "\n",
    "local_regressor.fit(train_location, logs=True)"
   ]
  },
  {
   "cell_type": "code",
   "execution_count": 74,
   "metadata": {},
   "outputs": [
    {
     "name": "stderr",
     "output_type": "stream",
     "text": [
      "WARNING:urllib3.connectionpool:Retrying (Retry(total=2, connect=None, read=None, redirect=None, status=None)) after connection broken by 'NewConnectionError('<urllib3.connection.HTTPConnection object at 0x2a3db6d30>: Failed to establish a new connection: [Errno 61] Connection refused')': /ping\n",
      "WARNING:urllib3.connectionpool:Retrying (Retry(total=1, connect=None, read=None, redirect=None, status=None)) after connection broken by 'NewConnectionError('<urllib3.connection.HTTPConnection object at 0x2a3db41f0>: Failed to establish a new connection: [Errno 61] Connection refused')': /ping\n",
      "WARNING:urllib3.connectionpool:Retrying (Retry(total=0, connect=None, read=None, redirect=None, status=None)) after connection broken by 'NewConnectionError('<urllib3.connection.HTTPConnection object at 0x2a3db42e0>: Failed to establish a new connection: [Errno 61] Connection refused')': /ping\n"
     ]
    },
    {
     "name": "stdout",
     "output_type": "stream",
     "text": [
      "Attaching to uf74mk7e8y-algo-1-a0tr0\n",
      "\u001b[36muf74mk7e8y-algo-1-a0tr0 |\u001b[0m Starting the inference server with 2 workers.\n",
      "\u001b[36muf74mk7e8y-algo-1-a0tr0 |\u001b[0m [2023-04-20 06:30:50 +0000] [10] [INFO] Starting gunicorn 20.1.0\n",
      "\u001b[36muf74mk7e8y-algo-1-a0tr0 |\u001b[0m [2023-04-20 06:30:50 +0000] [10] [INFO] Listening at: unix:/tmp/gunicorn.sock (10)\n",
      "\u001b[36muf74mk7e8y-algo-1-a0tr0 |\u001b[0m [2023-04-20 06:30:50 +0000] [10] [INFO] Using worker: sync\n",
      "\u001b[36muf74mk7e8y-algo-1-a0tr0 |\u001b[0m [2023-04-20 06:30:50 +0000] [12] [INFO] Booting worker with pid: 12\n",
      "\u001b[36muf74mk7e8y-algo-1-a0tr0 |\u001b[0m [2023-04-20 06:30:50 +0000] [13] [INFO] Booting worker with pid: 13\n",
      "\u001b[36muf74mk7e8y-algo-1-a0tr0 |\u001b[0m 172.21.0.1 - - [20/Apr/2023:06:30:54 +0000] \"GET /ping HTTP/1.1\" 200 1 \"-\" \"python-urllib3/1.26.15\"\n",
      "!"
     ]
    }
   ],
   "source": [
    "predictor = local_regressor.deploy(1, 'local', env=env)"
   ]
  },
  {
   "cell_type": "code",
   "execution_count": 85,
   "metadata": {},
   "outputs": [],
   "source": [
    "test_data = open('payload.json')"
   ]
  },
  {
   "cell_type": "code",
   "execution_count": 86,
   "metadata": {},
   "outputs": [
    {
     "name": "stdout",
     "output_type": "stream",
     "text": [
      "\u001b[36muf74mk7e8y-algo-1-a0tr0 |\u001b[0m 172.21.0.1 - - [20/Apr/2023:06:35:39 +0000] \"POST /invocations HTTP/1.1\" 415 38 \"-\" \"python-urllib3/1.26.15\"\n"
     ]
    }
   ],
   "source": [
    "predicted = predictor.predict(test_data).decode('utf-8')"
   ]
  },
  {
   "cell_type": "code",
   "execution_count": 87,
   "metadata": {},
   "outputs": [
    {
     "name": "stdout",
     "output_type": "stream",
     "text": [
      "This predictor only supports JSON data\n"
     ]
    }
   ],
   "source": [
    "print(predicted)"
   ]
  },
  {
   "cell_type": "code",
   "execution_count": 88,
   "metadata": {},
   "outputs": [
    {
     "name": "stdout",
     "output_type": "stream",
     "text": [
      "Gracefully stopping... (press Ctrl+C again to force)\n"
     ]
    }
   ],
   "source": [
    "predictor.delete_endpoint()"
   ]
  },
  {
   "cell_type": "code",
   "execution_count": null,
   "metadata": {},
   "outputs": [],
   "source": []
  }
 ],
 "metadata": {
  "kernelspec": {
   "display_name": "charm-demo",
   "language": "python",
   "name": "python3"
  },
  "language_info": {
   "codemirror_mode": {
    "name": "ipython",
    "version": 3
   },
   "file_extension": ".py",
   "mimetype": "text/x-python",
   "name": "python",
   "nbconvert_exporter": "python",
   "pygments_lexer": "ipython3",
   "version": "3.9.5"
  },
  "orig_nbformat": 4
 },
 "nbformat": 4,
 "nbformat_minor": 2
}
