{
 "cells": [
  {
   "attachments": {},
   "cell_type": "markdown",
   "metadata": {},
   "source": [
    "First, we need to install the relevant libaries required for this local training usecase. You will need to pip install boto3, pandas and Sagemaker into your Python environment. For this lab, running Python 3.11 as your kernel is recommended. Please see the requirements.txt for what's needed.\n"
   ]
  },
  {
   "cell_type": "code",
   "execution_count": 1,
   "metadata": {},
   "outputs": [],
   "source": [
    "import tarfile\n",
    "import boto3\n",
    "import pandas as pd\n",
    "import os\n",
    "from sagemaker.estimator import Estimator\n",
    "from sagemaker.local import LocalSession\n",
    "from sagemaker.predictor import csv_serializer"
   ]
  },
  {
   "cell_type": "code",
   "execution_count": 2,
   "metadata": {},
   "outputs": [
    {
     "name": "stderr",
     "output_type": "stream",
     "text": [
      "WARNING:root:MDLP was not imported successfully\n",
      "/opt/homebrew/lib/python3.9/site-packages/tqdm/auto.py:21: TqdmWarning: IProgress not found. Please update jupyter and ipywidgets. See https://ipywidgets.readthedocs.io/en/stable/user_install.html\n",
      "  from .autonotebook import tqdm as notebook_tqdm\n"
     ]
    }
   ],
   "source": [
    "from __future__ import print_function\n",
    "\n",
    "import json\n",
    "import os\n",
    "import pickle\n",
    "import sys\n",
    "import traceback\n",
    "\n",
    "import pandas as pd\n",
    "from causalnex.discretiser import Discretiser\n",
    "import warnings\n",
    "from causalnex.structure import StructureModel\n",
    "from sklearn.model_selection import train_test_split\n",
    "from causalnex.network import BayesianNetwork\n",
    "from causalnex.evaluation import classification_report\n",
    "from causalnex.evaluation import roc_auc"
   ]
  },
  {
   "attachments": {},
   "cell_type": "markdown",
   "metadata": {},
   "source": [
    "The next step is to create a SageMaker Local session, define the ARN for Sagemeker execution and create a session using the 'mlops-prod' profile. \n"
   ]
  },
  {
   "cell_type": "code",
   "execution_count": null,
   "metadata": {},
   "outputs": [],
   "source": [
    "sagemaker_session = LocalSession()\n",
    "sagemaker_session.config = {'local': {'local_code': True}}\n",
    "\n",
    "role = 'arn:aws:iam::948014026119:role/service-role/AmazonSageMaker-ExecutionRole-20220620T163773'\n",
    "session = boto3.session.Session(profile_name='mlops-prod')\n",
    "s3 = session.client('s3')"
   ]
  },
  {
   "attachments": {},
   "cell_type": "markdown",
   "metadata": {},
   "source": [
    "Define the data location, which is apart of this repository.\n"
   ]
  },
  {
   "cell_type": "code",
   "execution_count": 3,
   "metadata": {},
   "outputs": [],
   "source": [
    "data_location = \"./data/heart_failure_clinical_records_dataset.csv\""
   ]
  },
  {
   "attachments": {},
   "cell_type": "markdown",
   "metadata": {},
   "source": [
    "In the cell, we are doing data pre-processing to make our dataset ML friendly. This code is using a Discretiser class from the causalnex library to transform a continuous feature into a discrete one. \n",
    "\n",
    "Taking age as an example, we are using an numeric_split_points=[60], which means it will split the data into two bins: below 60 and above 60. Similar approaches are used on other columns."
   ]
  },
  {
   "cell_type": "code",
   "execution_count": 4,
   "metadata": {},
   "outputs": [
    {
     "name": "stdout",
     "output_type": "stream",
     "text": [
      "after pre-processing\n"
     ]
    },
    {
     "data": {
      "text/html": [
       "<div>\n",
       "<style scoped>\n",
       "    .dataframe tbody tr th:only-of-type {\n",
       "        vertical-align: middle;\n",
       "    }\n",
       "\n",
       "    .dataframe tbody tr th {\n",
       "        vertical-align: top;\n",
       "    }\n",
       "\n",
       "    .dataframe thead th {\n",
       "        text-align: right;\n",
       "    }\n",
       "</style>\n",
       "<table border=\"1\" class=\"dataframe\">\n",
       "  <thead>\n",
       "    <tr style=\"text-align: right;\">\n",
       "      <th></th>\n",
       "      <th>age</th>\n",
       "      <th>anaemia</th>\n",
       "      <th>creatinine_phosphokinase</th>\n",
       "      <th>diabetes</th>\n",
       "      <th>ejection_fraction</th>\n",
       "      <th>high_blood_pressure</th>\n",
       "      <th>platelets</th>\n",
       "      <th>serum_creatinine</th>\n",
       "      <th>serum_sodium</th>\n",
       "      <th>sex</th>\n",
       "      <th>smoking</th>\n",
       "      <th>time</th>\n",
       "      <th>DEATH_EVENT</th>\n",
       "    </tr>\n",
       "  </thead>\n",
       "  <tbody>\n",
       "    <tr>\n",
       "      <th>0</th>\n",
       "      <td>1</td>\n",
       "      <td>0</td>\n",
       "      <td>2</td>\n",
       "      <td>0</td>\n",
       "      <td>0</td>\n",
       "      <td>1</td>\n",
       "      <td>1</td>\n",
       "      <td>0</td>\n",
       "      <td>0</td>\n",
       "      <td>1</td>\n",
       "      <td>0</td>\n",
       "      <td>4</td>\n",
       "      <td>1</td>\n",
       "    </tr>\n",
       "    <tr>\n",
       "      <th>1</th>\n",
       "      <td>0</td>\n",
       "      <td>0</td>\n",
       "      <td>3</td>\n",
       "      <td>0</td>\n",
       "      <td>2</td>\n",
       "      <td>0</td>\n",
       "      <td>1</td>\n",
       "      <td>0</td>\n",
       "      <td>1</td>\n",
       "      <td>1</td>\n",
       "      <td>0</td>\n",
       "      <td>6</td>\n",
       "      <td>1</td>\n",
       "    </tr>\n",
       "    <tr>\n",
       "      <th>2</th>\n",
       "      <td>1</td>\n",
       "      <td>0</td>\n",
       "      <td>1</td>\n",
       "      <td>0</td>\n",
       "      <td>0</td>\n",
       "      <td>0</td>\n",
       "      <td>0</td>\n",
       "      <td>0</td>\n",
       "      <td>0</td>\n",
       "      <td>1</td>\n",
       "      <td>1</td>\n",
       "      <td>7</td>\n",
       "      <td>1</td>\n",
       "    </tr>\n",
       "    <tr>\n",
       "      <th>3</th>\n",
       "      <td>0</td>\n",
       "      <td>1</td>\n",
       "      <td>0</td>\n",
       "      <td>0</td>\n",
       "      <td>0</td>\n",
       "      <td>0</td>\n",
       "      <td>0</td>\n",
       "      <td>0</td>\n",
       "      <td>1</td>\n",
       "      <td>1</td>\n",
       "      <td>0</td>\n",
       "      <td>7</td>\n",
       "      <td>1</td>\n",
       "    </tr>\n",
       "    <tr>\n",
       "      <th>4</th>\n",
       "      <td>1</td>\n",
       "      <td>1</td>\n",
       "      <td>1</td>\n",
       "      <td>1</td>\n",
       "      <td>0</td>\n",
       "      <td>0</td>\n",
       "      <td>1</td>\n",
       "      <td>0</td>\n",
       "      <td>0</td>\n",
       "      <td>0</td>\n",
       "      <td>0</td>\n",
       "      <td>8</td>\n",
       "      <td>1</td>\n",
       "    </tr>\n",
       "  </tbody>\n",
       "</table>\n",
       "</div>"
      ],
      "text/plain": [
       "   age  anaemia  creatinine_phosphokinase  diabetes  ejection_fraction  \\\n",
       "0    1        0                         2         0                  0   \n",
       "1    0        0                         3         0                  2   \n",
       "2    1        0                         1         0                  0   \n",
       "3    0        1                         0         0                  0   \n",
       "4    1        1                         1         1                  0   \n",
       "\n",
       "   high_blood_pressure  platelets  serum_creatinine  serum_sodium  sex  \\\n",
       "0                    1          1                 0             0    1   \n",
       "1                    0          1                 0             1    1   \n",
       "2                    0          0                 0             0    1   \n",
       "3                    0          0                 0             1    1   \n",
       "4                    0          1                 0             0    0   \n",
       "\n",
       "   smoking  time  DEATH_EVENT  \n",
       "0        0     4            1  \n",
       "1        0     6            1  \n",
       "2        1     7            1  \n",
       "3        0     7            1  \n",
       "4        0     8            1  "
      ]
     },
     "execution_count": 4,
     "metadata": {},
     "output_type": "execute_result"
    }
   ],
   "source": [
    "from causalnex.discretiser import Discretiser\n",
    "import pandas as pd\n",
    "\n",
    "initial_df = pd.read_csv(data_location)\n",
    "\n",
    "initial_df[\"age\"] = Discretiser(method=\"fixed\", numeric_split_points=[60]).transform(\n",
    "    initial_df[\"age\"].values\n",
    ")\n",
    "initial_df[\"serum_sodium\"] = Discretiser(method=\"fixed\", numeric_split_points=[136]).transform(\n",
    "    initial_df[\"serum_sodium\"].values\n",
    ")\n",
    "initial_df[\"serum_creatinine\"] = Discretiser(\n",
    "    method=\"fixed\", numeric_split_points=[1.1, 1.4]\n",
    ").transform(initial_df[\"serum_sodium\"].values)\n",
    "\n",
    "initial_df[\"ejection_fraction\"] = Discretiser(\n",
    "    method=\"fixed\", numeric_split_points=[30, 38, 42]\n",
    ").transform(initial_df[\"ejection_fraction\"].values)\n",
    "\n",
    "initial_df[\"creatinine_phosphokinase\"] = Discretiser(\n",
    "    method=\"fixed\", numeric_split_points=[120, 540, 670]\n",
    ").transform(initial_df[\"creatinine_phosphokinase\"].values)\n",
    "\n",
    "initial_df[\"platelets\"] = Discretiser(method=\"fixed\", numeric_split_points=[263358]).transform(\n",
    "    initial_df[\"platelets\"].values\n",
    ")\n",
    "\n",
    "print (\"after pre-processing\")\n",
    "initial_df.head()"
   ]
  },
  {
   "cell_type": "code",
   "execution_count": 7,
   "metadata": {},
   "outputs": [
    {
     "name": "stdout",
     "output_type": "stream",
     "text": [
      "Model AUC: 0.7368055555555555\n",
      "{'DEATH_EVENT_0': {'precision': 0.6122448979591837, 'recall': 0.8571428571428571, 'f1-score': 0.7142857142857143, 'support': 35.0}, 'DEATH_EVENT_1': {'precision': 0.5454545454545454, 'recall': 0.24, 'f1-score': 0.3333333333333333, 'support': 25.0}, 'accuracy': 0.6, 'macro avg': {'precision': 0.5788497217068646, 'recall': 0.5485714285714285, 'f1-score': 0.5238095238095238, 'support': 60.0}, 'weighted avg': {'precision': 0.5844155844155844, 'recall': 0.6, 'f1-score': 0.5555555555555555, 'support': 60.0}}\n"
     ]
    },
    {
     "name": "stderr",
     "output_type": "stream",
     "text": [
      "/opt/homebrew/lib/python3.9/site-packages/causalnex/network/network.py:379: SettingWithCopyWarning: \n",
      "A value is trying to be set on a copy of a slice from a DataFrame.\n",
      "Try using .loc[row_indexer,col_indexer] = value instead\n",
      "\n",
      "See the caveats in the documentation: https://pandas.pydata.org/pandas-docs/stable/user_guide/indexing.html#returning-a-view-versus-a-copy\n",
      "  df[col] = df[col].map(self._node_states[col])\n",
      "/opt/homebrew/lib/python3.9/site-packages/causalnex/network/network.py:379: SettingWithCopyWarning: \n",
      "A value is trying to be set on a copy of a slice from a DataFrame.\n",
      "Try using .loc[row_indexer,col_indexer] = value instead\n",
      "\n",
      "See the caveats in the documentation: https://pandas.pydata.org/pandas-docs/stable/user_guide/indexing.html#returning-a-view-versus-a-copy\n",
      "  df[col] = df[col].map(self._node_states[col])\n",
      "/opt/homebrew/lib/python3.9/site-packages/causalnex/network/network.py:379: SettingWithCopyWarning: \n",
      "A value is trying to be set on a copy of a slice from a DataFrame.\n",
      "Try using .loc[row_indexer,col_indexer] = value instead\n",
      "\n",
      "See the caveats in the documentation: https://pandas.pydata.org/pandas-docs/stable/user_guide/indexing.html#returning-a-view-versus-a-copy\n",
      "  df[col] = df[col].map(self._node_states[col])\n",
      "/opt/homebrew/lib/python3.9/site-packages/causalnex/network/network.py:379: SettingWithCopyWarning: \n",
      "A value is trying to be set on a copy of a slice from a DataFrame.\n",
      "Try using .loc[row_indexer,col_indexer] = value instead\n",
      "\n",
      "See the caveats in the documentation: https://pandas.pydata.org/pandas-docs/stable/user_guide/indexing.html#returning-a-view-versus-a-copy\n",
      "  df[col] = df[col].map(self._node_states[col])\n",
      "/opt/homebrew/lib/python3.9/site-packages/causalnex/network/network.py:379: SettingWithCopyWarning: \n",
      "A value is trying to be set on a copy of a slice from a DataFrame.\n",
      "Try using .loc[row_indexer,col_indexer] = value instead\n",
      "\n",
      "See the caveats in the documentation: https://pandas.pydata.org/pandas-docs/stable/user_guide/indexing.html#returning-a-view-versus-a-copy\n",
      "  df[col] = df[col].map(self._node_states[col])\n",
      "/opt/homebrew/lib/python3.9/site-packages/causalnex/network/network.py:379: SettingWithCopyWarning: \n",
      "A value is trying to be set on a copy of a slice from a DataFrame.\n",
      "Try using .loc[row_indexer,col_indexer] = value instead\n",
      "\n",
      "See the caveats in the documentation: https://pandas.pydata.org/pandas-docs/stable/user_guide/indexing.html#returning-a-view-versus-a-copy\n",
      "  df[col] = df[col].map(self._node_states[col])\n",
      "/opt/homebrew/lib/python3.9/site-packages/causalnex/network/network.py:379: SettingWithCopyWarning: \n",
      "A value is trying to be set on a copy of a slice from a DataFrame.\n",
      "Try using .loc[row_indexer,col_indexer] = value instead\n",
      "\n",
      "See the caveats in the documentation: https://pandas.pydata.org/pandas-docs/stable/user_guide/indexing.html#returning-a-view-versus-a-copy\n",
      "  df[col] = df[col].map(self._node_states[col])\n",
      "/opt/homebrew/lib/python3.9/site-packages/causalnex/network/network.py:379: SettingWithCopyWarning: \n",
      "A value is trying to be set on a copy of a slice from a DataFrame.\n",
      "Try using .loc[row_indexer,col_indexer] = value instead\n",
      "\n",
      "See the caveats in the documentation: https://pandas.pydata.org/pandas-docs/stable/user_guide/indexing.html#returning-a-view-versus-a-copy\n",
      "  df[col] = df[col].map(self._node_states[col])\n"
     ]
    }
   ],
   "source": [
    "sm = StructureModel()\n",
    "sm.add_edges_from([\n",
    "    ('ejection_fraction', 'DEATH_EVENT'),\n",
    "    ('creatinine_phosphokinase', 'DEATH_EVENT'),\n",
    "    ('age','DEATH_EVENT'),\n",
    "    ('smoking','high_blood_pressure'),\n",
    "    ('age','high_blood_pressure'),            \n",
    "    ('serum_sodium','DEATH_EVENT'),\n",
    "    ('high_blood_pressure','DEATH_EVENT'),\n",
    "    ('anaemia','DEATH_EVENT'),\n",
    "    ('creatinine_phosphokinase','DEATH_EVENT'),\n",
    "    ('smoking','DEATH_EVENT')\n",
    "])\n",
    "\n",
    "train, test = train_test_split(initial_df, train_size=0.8, test_size=0.2, random_state=42)\n",
    "        \n",
    "bn = BayesianNetwork(sm)\n",
    "bn = bn.fit_node_states(initial_df)\n",
    "bn = bn.fit_cpds(train, method=\"BayesianEstimator\", bayes_prior=\"K2\")\n",
    "\n",
    "roc, auc = roc_auc(bn, test, \"DEATH_EVENT\")\n",
    "print(\"Model AUC: \" + str(auc))\n",
    "\n",
    "print(classification_report(bn, test, \"DEATH_EVENT\"))\n",
    "\n",
    "# save the model\n",
    "model_path = \"models\"\n",
    "isExist = os.path.exists(model_path)\n",
    "if not isExist:\n",
    "   os.makedirs(model_path)\n",
    "with open(os.path.join(model_path, 'causal_model.pkl'), 'wb') as out:\n",
    "    pickle.dump(bn, out)"
   ]
  },
  {
   "attachments": {},
   "cell_type": "markdown",
   "metadata": {},
   "source": [
    "Now we want to use this code to create a docker image that can be pushed to ECR and then use that image with Sagemaker\n",
    "\n",
    "For this step, we need to create a docker image in our local environment. Please ensure you have 'sagemaker-causalnex-local' in your Docker Images.\n",
    "\n",
    "Please run 'docker build -t sagemaker-causal-nex:latest .' in the 'sagemaker-local-to-cloud/local/container' path"
   ]
  },
  {
   "cell_type": "code",
   "execution_count": 24,
   "metadata": {},
   "outputs": [
    {
     "ename": "SyntaxError",
     "evalue": "positional argument follows keyword argument (3015496600.py, line 18)",
     "output_type": "error",
     "traceback": [
      "\u001b[0;36m  Cell \u001b[0;32mIn[24], line 18\u001b[0;36m\u001b[0m\n\u001b[0;31m    instance_type=\"local\")\u001b[0m\n\u001b[0m                         ^\u001b[0m\n\u001b[0;31mSyntaxError\u001b[0m\u001b[0;31m:\u001b[0m positional argument follows keyword argument\n"
     ]
    }
   ],
   "source": [
    "from sagemaker.local import LocalSession\n",
    "\n",
    "DUMMY_IAM_ROLE = 'arn:aws:iam::111111111111:role/service-role/AmazonSageMaker-ExecutionRole-20200101T000001'\n",
    "LOCAL_SESSION = LocalSession()\n",
    "LOCAL_SESSION.config={'local': {'local_code': True}} # Ensure full code locality, see: https://sagemaker.readthedocs.io/en/stable/overview.html#local-mode\n",
    "\n",
    "image = 'sagemaker-causal-nex'\n",
    "\n",
    "env={\n",
    "    \"MODEL_SERVER_WORKERS\":\"2\"\n",
    "    }\n",
    "\n",
    "local_regressor = Estimator(\n",
    "    sagemaker_session=LOCAL_SESSION,\n",
    "    role = 'role',\n",
    "    image,\n",
    "    instance_count=1,\n",
    "    instance_type=\"local\")\n",
    "\n",
    "train_location = 'file://'+data_location\n",
    "\n",
    "local_regressor.fit(train_location, logs=True)"
   ]
  },
  {
   "cell_type": "code",
   "execution_count": null,
   "metadata": {},
   "outputs": [],
   "source": [
    "predictor = local_regressor.deploy(1, 'local', env=env)"
   ]
  },
  {
   "cell_type": "code",
   "execution_count": null,
   "metadata": {},
   "outputs": [],
   "source": [
    "test_data = open('payload.json')"
   ]
  },
  {
   "cell_type": "code",
   "execution_count": null,
   "metadata": {},
   "outputs": [],
   "source": [
    "predicted = predictor.predict(test_data).decode('utf-8')"
   ]
  },
  {
   "cell_type": "code",
   "execution_count": null,
   "metadata": {},
   "outputs": [],
   "source": [
    "print(predicted)"
   ]
  },
  {
   "cell_type": "code",
   "execution_count": null,
   "metadata": {},
   "outputs": [],
   "source": [
    "predictor.delete_endpoint()"
   ]
  },
  {
   "cell_type": "code",
   "execution_count": null,
   "metadata": {},
   "outputs": [],
   "source": []
  }
 ],
 "metadata": {
  "kernelspec": {
   "display_name": "charm-demo",
   "language": "python",
   "name": "python3"
  },
  "language_info": {
   "codemirror_mode": {
    "name": "ipython",
    "version": 3
   },
   "file_extension": ".py",
   "mimetype": "text/x-python",
   "name": "python",
   "nbconvert_exporter": "python",
   "pygments_lexer": "ipython3",
   "version": "3.9.13"
  },
  "orig_nbformat": 4
 },
 "nbformat": 4,
 "nbformat_minor": 2
}
